{
 "cells": [
  {
   "cell_type": "markdown",
   "metadata": {},
   "source": [
    "# Pythonic Code\n",
    "## We Code Fest 2019 - Valladolid, Spain\n",
    "Hey there! This jupyter notebook is part of a live coding talk called \"Pythonic Code\", hosted in the WeCodeFest 2019. This notebook will compare python scripts with a pythonic version of the same code. My intention is to show good practices and tricks in the Python programming language.\n",
    "\n",
    "## File management\n",
    "Files must be opened to perform any I/O operation with them. They must be closed too. It's a quite common mistake to forget about that, leaving the file descriptor unclosed. This can lead to errors when reaching the limit of open file descriptors. How does python help to prevent this situation? Using [**context managers**](https://docs.python.org/3/library/stdtypes.html#context-manager-types). Let's see an example."
   ]
  },
  {
   "cell_type": "code",
   "execution_count": 1,
   "metadata": {},
   "outputs": [],
   "source": [
    "myfile = open('test.txt', 'w')\n",
    "myfile.write('test')\n",
    "myfile.close()"
   ]
  },
  {
   "cell_type": "code",
   "execution_count": 2,
   "metadata": {},
   "outputs": [],
   "source": [
    "with open('test.txt', 'w') as myfile:\n",
    "    myfile.write('test')"
   ]
  },
  {
   "cell_type": "markdown",
   "metadata": {},
   "source": [
    "When there's no more code to execute in the context manager, it *closes* itself calling the **`__exit__`** magic method. Objects defining this method (such as file objects) can be used in context managers. In the case of file objects, the **`__exit__`** method is in charge of closing the file descriptor."
   ]
  },
  {
   "cell_type": "markdown",
   "metadata": {},
   "source": [
    "## Command line arguments\n",
    "It is very common to use `sys.argv` and `getopt` to parse arguments from command line. It works but python provides an easier way to do it: the **argparse** module.\n",
    "\n",
    "In the `getopt` module documentation, the following note is present at the top of the page:\n",
    "> The `getopt` module is a parser for command line options whose API is designed to be familiar to users of the C `getopt()` function. Users who are unfamiliar with the C `getopt()` function or who would like to write less code and get better help and error messages should consider using the `argparse` module instead. "
   ]
  },
  {
   "cell_type": "code",
   "execution_count": 7,
   "metadata": {
    "scrolled": true
   },
   "outputs": [
    {
     "data": {
      "text/plain": [
       "{'n_args': 2, 'n_actions': 1, 'group': 'default', 'list': True}"
      ]
     },
     "execution_count": 7,
     "metadata": {},
     "output_type": "execute_result"
    }
   ],
   "source": [
    "import getopt\n",
    "\n",
    "argv = [\"getopt_example.py\", \"--list\", \"--group=default\"]\n",
    "\n",
    "\n",
    "def usage():\n",
    "    msg = \"\"\"\n",
    "    {0} [ -l [ -g group_id ]\n",
    "    Usage:\n",
    "    \\t-l                                    # List all groups\n",
    "    \\t-l -g group_id                        # List agents in group\n",
    "\n",
    "    Params:\n",
    "    \\t-l, --list\n",
    "    \\t-g, --group\n",
    "    \"\"\".format(basename(argv[0]))\n",
    "    print(msg)\n",
    "\n",
    "\n",
    "arguments = {'n_args': 0, 'n_actions': 0, 'group': None, 'list': False}\n",
    "try:\n",
    "    opts, args = getopt.getopt(argv[1:], \"lcafsSri:g:qdh\", [\"list\", \"group=\", \"help\"])\n",
    "    arguments['n_args'] = len(opts)\n",
    "except GetoptError as err:\n",
    "    print(str(err) + \"\\n\" + \"Try '--help' for more information.\")\n",
    "    exit(1)\n",
    "\n",
    "for o, a in opts:\n",
    "    if o in (\"-l\", \"--list\"):\n",
    "        arguments['list'] = True\n",
    "        arguments['n_actions'] += 1\n",
    "    elif o in (\"-g\", \"--group\"):\n",
    "        arguments['group'] = a\n",
    "    elif o in (\"-h\", \"--help\"):\n",
    "        usage()\n",
    "    else:\n",
    "        print(\"Invalid options.\\nTry '--help' for more information.\\n\")\n",
    "\n",
    "arguments"
   ]
  },
  {
   "cell_type": "code",
   "execution_count": 1,
   "metadata": {},
   "outputs": [
    {
     "data": {
      "text/plain": [
       "Namespace(group='default', list=True)"
      ]
     },
     "execution_count": 1,
     "metadata": {},
     "output_type": "execute_result"
    }
   ],
   "source": [
    "import argparse\n",
    "parser = argparse.ArgumentParser(description='List groups or all agents inside a group.')\n",
    "parser.add_argument('-l', '--list', help=\"List all groups\", dest='list', action='store_true')\n",
    "parser.add_argument('-g', '--group', help=\"List all agents in a group\", dest='group', type=str)\n",
    "parser.parse_args(['--list', '--group=default'])"
   ]
  },
  {
   "cell_type": "markdown",
   "metadata": {},
   "source": [
    "## Iterators\n",
    "### Lists/Dict/Set comprehesions\n",
    "We all know what a for loop is, and we have all used one at any time in our lives. Python includes that too but it also includes much other ways to iterate.\n",
    "\n",
    "The most basic one are lists comprehesions. Lists comprehesions builds a list in a single line. Let's compare creating a list using a \"traditional method\" and creating one using a list comprehesion."
   ]
  },
  {
   "cell_type": "code",
   "execution_count": 35,
   "metadata": {},
   "outputs": [
    {
     "name": "stdout",
     "output_type": "stream",
     "text": [
      "Wall time: 10.6 s\n"
     ]
    }
   ],
   "source": [
    "%%time\n",
    "my_list = []\n",
    "for i in range(10000000):\n",
    "    my_list.append(i)"
   ]
  },
  {
   "cell_type": "code",
   "execution_count": 36,
   "metadata": {},
   "outputs": [
    {
     "name": "stdout",
     "output_type": "stream",
     "text": [
      "Wall time: 1.74 s\n"
     ]
    }
   ],
   "source": [
    "%%time\n",
    "my_list = [i for i in range(10000000)]"
   ]
  },
  {
   "cell_type": "markdown",
   "metadata": {},
   "source": [
    "In addition to list comprehesions, there are set comprehesions and dict comprehesions too!"
   ]
  },
  {
   "cell_type": "code",
   "execution_count": 2,
   "metadata": {},
   "outputs": [
    {
     "name": "stdout",
     "output_type": "stream",
     "text": [
      "Wall time: 20.1 s\n"
     ]
    }
   ],
   "source": [
    "%%time\n",
    "import random\n",
    "random_items = random.sample(range(1000000000), k=10000000)"
   ]
  },
  {
   "cell_type": "code",
   "execution_count": 3,
   "metadata": {},
   "outputs": [
    {
     "name": "stdout",
     "output_type": "stream",
     "text": [
      "Wall time: 6.43 s\n"
     ]
    }
   ],
   "source": [
    "%%time\n",
    "my_dict = {}\n",
    "for i in random_items:\n",
    "    my_dict[i] = i"
   ]
  },
  {
   "cell_type": "code",
   "execution_count": 4,
   "metadata": {},
   "outputs": [
    {
     "name": "stdout",
     "output_type": "stream",
     "text": [
      "Wall time: 4.72 s\n"
     ]
    }
   ],
   "source": [
    "%%time\n",
    "my_dict = {i:i for i in random_items}"
   ]
  },
  {
   "cell_type": "code",
   "execution_count": 7,
   "metadata": {},
   "outputs": [
    {
     "name": "stdout",
     "output_type": "stream",
     "text": [
      "Wall time: 4.45 s\n"
     ]
    }
   ],
   "source": [
    "%%time\n",
    "my_set = set()\n",
    "for i in random_items:\n",
    "    my_set.add(i)"
   ]
  },
  {
   "cell_type": "code",
   "execution_count": 8,
   "metadata": {},
   "outputs": [
    {
     "name": "stdout",
     "output_type": "stream",
     "text": [
      "Wall time: 3.22 s\n"
     ]
    }
   ],
   "source": [
    "%%time\n",
    "my_set = {i for i in random_items}"
   ]
  },
  {
   "cell_type": "code",
   "execution_count": 9,
   "metadata": {},
   "outputs": [
    {
     "name": "stdout",
     "output_type": "stream",
     "text": [
      "Wall time: 2.35 s\n"
     ]
    }
   ],
   "source": [
    "%%time\n",
    "my_set = set(random_items)"
   ]
  },
  {
   "cell_type": "markdown",
   "metadata": {},
   "source": [
    "As you can see, generally using a list/set/list comprehesion is faster than building it using a traditional for loop. Why? There is a few reasons:\n",
    "* Using precompiled C code is faster than using interpreted python code\n",
    "* Calling a function bound to a local name will be faster than calling a function in a external module.\n",
    "* Avoid creating unnecessary lists in memory if your're only iterating them once: generators are faster.\n",
    "\n",
    "## Unpacking tuples\n",
    "To improve code's readability when iterating through any list/set/generator containing tuples it's possible to name each item in the tuple. For example, imagine we're iterating through a sql query in a database, each row contains the following  fields:\n",
    "* Agent name\n",
    "* Agent ID\n",
    "* Agent IP\n",
    "* Agent OS name"
   ]
  },
  {
   "cell_type": "code",
   "execution_count": 1,
   "metadata": {},
   "outputs": [
    {
     "name": "stdout",
     "output_type": "stream",
     "text": [
      "CentOS 7\n",
      "Solaris 10\n"
     ]
    }
   ],
   "source": [
    "database_rows = [('my_manager', 0, '172.10.0.34', 'Ubuntu Bionic'),\n",
    "                 ('my_1st_agent', 1, '183.24.64.1', 'CentOS 7'),\n",
    "                 ('my_2nd_agent', 2, '193.142.144.12', 'Solaris 10')]\n",
    "\n",
    "for row in database_rows:\n",
    "    if row[1] > 0:\n",
    "        print(row[3])"
   ]
  },
  {
   "cell_type": "markdown",
   "metadata": {},
   "source": [
    "It's necessary to check databases's headers to know what `row[1]` and `row[3]` stands for. That makes the code harder to read and understand. But, in Python it is possible to ***unpack*** tuples:"
   ]
  },
  {
   "cell_type": "code",
   "execution_count": 2,
   "metadata": {},
   "outputs": [
    {
     "name": "stdout",
     "output_type": "stream",
     "text": [
      "CentOS 7\n",
      "Solaris 10\n"
     ]
    }
   ],
   "source": [
    "for a_name, a_id, a_ip, a_os in database_rows:\n",
    "    if a_id > 0:\n",
    "        print(a_os)"
   ]
  },
  {
   "cell_type": "markdown",
   "metadata": {},
   "source": [
    "This code looks much better, but we're only using two columns, why store the rest in variables? Let's just _ignore_ them:"
   ]
  },
  {
   "cell_type": "code",
   "execution_count": 3,
   "metadata": {},
   "outputs": [
    {
     "name": "stdout",
     "output_type": "stream",
     "text": [
      "CentOS 7\n",
      "Solaris 10\n"
     ]
    }
   ],
   "source": [
    "for _, a_id, _, a_os in database_rows:\n",
    "    if a_id > 0:\n",
    "        print(a_os)"
   ]
  },
  {
   "cell_type": "markdown",
   "metadata": {},
   "source": [
    "## Control flow\n",
    "In python, as in many other languages, there are _control flow_ keywords such as `break` and `continue`. \n",
    "\n",
    "The `continue` statement works exactly the same as C, it can be used as _\"filtering\"_ inside a loop:"
   ]
  },
  {
   "cell_type": "code",
   "execution_count": 23,
   "metadata": {},
   "outputs": [
    {
     "name": "stdout",
     "output_type": "stream",
     "text": [
      "2 is an even number.\n",
      "3 is not an even number.\n",
      "4 is an even number.\n",
      "5 is not an even number.\n",
      "6 is an even number.\n",
      "7 is not an even number.\n",
      "8 is an even number.\n",
      "9 is not an even number.\n"
     ]
    }
   ],
   "source": [
    "for i in range(2, 10):\n",
    "    if i % 2 == 0:\n",
    "        print(f\"{i} is an even number.\")\n",
    "        continue\n",
    "    print(f\"{i} is not an even number.\")"
   ]
  },
  {
   "cell_type": "markdown",
   "metadata": {},
   "source": [
    "But personally, I prefer to use `filter` function to do it:"
   ]
  },
  {
   "cell_type": "code",
   "execution_count": 20,
   "metadata": {},
   "outputs": [
    {
     "name": "stdout",
     "output_type": "stream",
     "text": [
      "2 is an even number.\n",
      "4 is an even number.\n",
      "6 is an even number.\n",
      "8 is an even number.\n"
     ]
    }
   ],
   "source": [
    "for i in filter(lambda x: x % 2 == 0, range(2, 10)):\n",
    "    print(f\"{i} is an even number.\")"
   ]
  },
  {
   "cell_type": "markdown",
   "metadata": {},
   "source": [
    "The `break` statement is used to stop iterating. Typically, is important to know whether the iteration stopped because of a `break` statement or not. The easiest way to do it is the following:"
   ]
  },
  {
   "cell_type": "code",
   "execution_count": 30,
   "metadata": {},
   "outputs": [
    {
     "name": "stdout",
     "output_type": "stream",
     "text": [
      "2 is a prime number.\n",
      "3 is a prime number.\n",
      "4 = 2 * 2.\n",
      "5 is a prime number.\n",
      "6 = 2 * 3.\n",
      "7 is a prime number.\n",
      "8 = 2 * 4.\n",
      "9 = 3 * 3.\n"
     ]
    }
   ],
   "source": [
    "is_broken = False\n",
    "for i in range(2, 10):\n",
    "    for n in range(2, i):\n",
    "        if i % n == 0:\n",
    "            print(f\"{i} = {n} * {i // n}.\")\n",
    "            is_broken = True\n",
    "            break\n",
    "    if not is_broken:\n",
    "        print(f\"{i} is a prime number.\")\n",
    "    else:\n",
    "        is_broken = False"
   ]
  },
  {
   "cell_type": "markdown",
   "metadata": {},
   "source": [
    "But there's a more pythonic way of doing this: using an `else` statement. Yes, Python supports `else` statements in loops. The code in the `else` statement will be executed when the loop terminates through exhaustion of the list (with `for`) or when the condition becomes false (with `while`), but **not when the loop is terminated by a `break` statement**. Therefore, previous example would look like this:"
   ]
  },
  {
   "cell_type": "code",
   "execution_count": 31,
   "metadata": {},
   "outputs": [
    {
     "name": "stdout",
     "output_type": "stream",
     "text": [
      "2 is a prime number.\n",
      "3 is a prime number.\n",
      "4 = 2 * 2.\n",
      "5 is a prime number.\n",
      "6 = 2 * 3.\n",
      "7 is a prime number.\n",
      "8 = 2 * 4.\n",
      "9 = 3 * 3.\n"
     ]
    }
   ],
   "source": [
    "for i in range(2, 10):\n",
    "    for n in range(2, i):\n",
    "        if i % n == 0:\n",
    "            print(f\"{i} = {n} * {i // n}.\")\n",
    "            is_broken = True\n",
    "            break\n",
    "    else:\n",
    "        print(f\"{i} is a prime number.\")"
   ]
  },
  {
   "cell_type": "markdown",
   "metadata": {},
   "source": [
    "### Itertools module\n",
    "The `itertools` module in python includes lots of functions to work with iterables in a easy way. It's very similar to [Haskell's list API](https://hackage.haskell.org/package/base-4.12.0.0/docs/Data-List.html), which means `itertools` can be a huge help when doing functional programming in python.\n",
    "\n",
    "\n",
    "Let's see a few examples where using `itertools` can highly improve the code.\n",
    "\n",
    "#### Flattening lists\n",
    "What's the best way to join multiple lists into a single one? Below there are three different ways of doing it:"
   ]
  },
  {
   "cell_type": "code",
   "execution_count": 30,
   "metadata": {},
   "outputs": [],
   "source": [
    "def flatten_list(list_of_lists):\n",
    "    final_list = []\n",
    "    for l in list_of_lists:\n",
    "        final_list.append(l)\n",
    "    return final_list"
   ]
  },
  {
   "cell_type": "code",
   "execution_count": 31,
   "metadata": {},
   "outputs": [],
   "source": [
    "import operator\n",
    "from functools import reduce\n",
    "def flatten_list2(list_of_lists):\n",
    "    return list(reduce(operator.add, list_of_lists))"
   ]
  },
  {
   "cell_type": "code",
   "execution_count": 32,
   "metadata": {},
   "outputs": [],
   "source": [
    "import itertools\n",
    "def flatten_list3(list_of_lists):\n",
    "    return itertools.chain.from_iterable(list_of_lists)"
   ]
  },
  {
   "cell_type": "code",
   "execution_count": 33,
   "metadata": {},
   "outputs": [],
   "source": [
    "matrix = [['a' for i in range(10)] for i in range(10)]"
   ]
  },
  {
   "cell_type": "code",
   "execution_count": 34,
   "metadata": {},
   "outputs": [
    {
     "name": "stdout",
     "output_type": "stream",
     "text": [
      "1.6 µs ± 22.2 ns per loop (mean ± std. dev. of 7 runs, 1000000 loops each)\n"
     ]
    }
   ],
   "source": [
    "%%timeit\n",
    "flatten_list(matrix)"
   ]
  },
  {
   "cell_type": "code",
   "execution_count": 35,
   "metadata": {},
   "outputs": [
    {
     "name": "stdout",
     "output_type": "stream",
     "text": [
      "7.4 µs ± 104 ns per loop (mean ± std. dev. of 7 runs, 100000 loops each)\n"
     ]
    }
   ],
   "source": [
    "%%timeit\n",
    "flatten_list2(matrix)"
   ]
  },
  {
   "cell_type": "code",
   "execution_count": 36,
   "metadata": {},
   "outputs": [
    {
     "name": "stdout",
     "output_type": "stream",
     "text": [
      "465 ns ± 11.9 ns per loop (mean ± std. dev. of 7 runs, 1000000 loops each)\n"
     ]
    }
   ],
   "source": [
    "%%timeit\n",
    "flatten_list3(matrix)"
   ]
  },
  {
   "cell_type": "markdown",
   "metadata": {},
   "source": [
    "Let's analyze each of the proposed solutions:\n",
    "* The fist one is constantly appending elements to the list. That's slow.\n",
    "* The second one is appending lists using `+`, which is similar to appending lists.\n",
    "* The last one uses `itertools` module which is efficiently implemented. That's why the execution time is 1000 times lower than the other two solutions.\n",
    "\n",
    "#### Split a iterator based in some condition\n",
    "Having an iterator (for example, a list) of integers, how to split it in two lists: one containing odd numbers and other containing even numbers?"
   ]
  },
  {
   "cell_type": "code",
   "execution_count": 28,
   "metadata": {},
   "outputs": [],
   "source": [
    "def split1(numbers, condition):\n",
    "    even, odd = [], []\n",
    "    for n in numbers:\n",
    "        (even if condition(n) else odd).append(n)\n",
    "    return even, odd"
   ]
  },
  {
   "cell_type": "code",
   "execution_count": 29,
   "metadata": {},
   "outputs": [
    {
     "data": {
      "text/plain": [
       "([0, 2, 4, 6, 8], [1, 3, 5, 7, 9])"
      ]
     },
     "execution_count": 29,
     "metadata": {},
     "output_type": "execute_result"
    }
   ],
   "source": [
    "split1(range(10), lambda x: x % 2 == 0)"
   ]
  },
  {
   "cell_type": "code",
   "execution_count": 34,
   "metadata": {},
   "outputs": [
    {
     "name": "stdout",
     "output_type": "stream",
     "text": [
      "16.6 ms ± 916 µs per loop (mean ± std. dev. of 7 runs, 100 loops each)\n"
     ]
    }
   ],
   "source": [
    "%%timeit\n",
    "split1(range(100000), lambda x: x % 2 == 0)"
   ]
  },
  {
   "cell_type": "code",
   "execution_count": 35,
   "metadata": {},
   "outputs": [],
   "source": [
    "import itertools\n",
    "def split2(numbers, condition):\n",
    "    even, odd = itertools.tee(numbers)\n",
    "    return list(filter(condition, even)), list(itertools.filterfalse(condition, odd))"
   ]
  },
  {
   "cell_type": "code",
   "execution_count": 36,
   "metadata": {},
   "outputs": [
    {
     "data": {
      "text/plain": [
       "([0, 2, 4, 6, 8], [1, 3, 5, 7, 9])"
      ]
     },
     "execution_count": 36,
     "metadata": {},
     "output_type": "execute_result"
    }
   ],
   "source": [
    "split2(range(10), lambda x: x % 2 == 0)"
   ]
  },
  {
   "cell_type": "code",
   "execution_count": 38,
   "metadata": {},
   "outputs": [
    {
     "name": "stdout",
     "output_type": "stream",
     "text": [
      "21.9 ms ± 1.06 ms per loop (mean ± std. dev. of 7 runs, 10 loops each)\n"
     ]
    }
   ],
   "source": [
    "%%timeit\n",
    "split2(range(100000), lambda x: x % 2 == 0)"
   ]
  },
  {
   "cell_type": "markdown",
   "metadata": {},
   "source": [
    "The itertools implementation may look slower but it has multiple advantages:\n",
    "* Removing the `list` calls in the `return` statement, will turn the function into a generator.\n",
    "* It uses _lazy evaluation_ (functional programming): it will just evaluate the necessary statements. No more and no less.\n",
    "* We can have an infinite odd/even numbers splitter."
   ]
  },
  {
   "cell_type": "markdown",
   "metadata": {},
   "source": [
    "## Real world problems\n",
    "Let's do solve some real problems, starting from a basic solution to a more pythonic one.\n",
    "\n",
    "### Advent of Code 2017 - Day 4: High-Entropy Passphrases\n",
    "\n",
    "_A new system policy has been put in place that requires all accounts to use a passphrase instead of simply a password. A passphrase consists of a series of words (lowercase letters) separated by spaces._\n",
    "\n",
    "_To ensure security, a valid passphrase must contain no duplicate words._\n",
    "\n",
    "_For example:_\n",
    "\n",
    "- _`aa bb cc dd ee` is valid._\n",
    "- _`aa bb cc dd aa` is not valid - the word aa appears more than once._\n",
    "- _`aa bb cc dd aaa` is valid - aa and aaa count as different words._\n",
    "\n",
    "_The system's full passphrase list is available as your puzzle input. How many passphrases are valid?_\n",
    "\n",
    "Attempt 1: Having an auxiliar list where all previously seen words are stored."
   ]
  },
  {
   "cell_type": "code",
   "execution_count": 1,
   "metadata": {},
   "outputs": [],
   "source": [
    "def pass_checker(passphrase):\n",
    "    already_seen_words = []\n",
    "    for word in passphrase:\n",
    "        if word in already_seen_words:\n",
    "            return False\n",
    "        already_seen_words.append(word)\n",
    "    return True"
   ]
  },
  {
   "cell_type": "code",
   "execution_count": 2,
   "metadata": {},
   "outputs": [],
   "source": [
    "assert(pass_checker(['aa','bb','cc','dd','ee']) == True)\n",
    "assert(pass_checker(['aa','bb','cc','dd','aa']) == False)\n",
    "assert(pass_checker(['aa','bb','cc','dd','aaa']) == True)"
   ]
  },
  {
   "cell_type": "code",
   "execution_count": 42,
   "metadata": {},
   "outputs": [],
   "source": [
    "import string\n",
    "import random\n",
    "pass_generator = random.sample([letter*i for letter in string.ascii_lowercase for i in range(1,500)], k=500*25)"
   ]
  },
  {
   "cell_type": "code",
   "execution_count": 4,
   "metadata": {},
   "outputs": [
    {
     "name": "stdout",
     "output_type": "stream",
     "text": [
      "1.82 s ± 377 ms per loop (mean ± std. dev. of 7 runs, 1 loop each)\n"
     ]
    }
   ],
   "source": [
    "%%timeit\n",
    "pass_checker(pass_generator)"
   ]
  },
  {
   "cell_type": "markdown",
   "metadata": {},
   "source": [
    "Attempt 2: Using a set instead of a list"
   ]
  },
  {
   "cell_type": "code",
   "execution_count": 5,
   "metadata": {},
   "outputs": [],
   "source": [
    "def pass_checker2(passphrase):\n",
    "    already_seen_words = set()\n",
    "    for word in passphrase:\n",
    "        if word in already_seen_words:\n",
    "            return False\n",
    "        already_seen_words.add(word)\n",
    "    return True"
   ]
  },
  {
   "cell_type": "code",
   "execution_count": 6,
   "metadata": {},
   "outputs": [],
   "source": [
    "assert(pass_checker2(['aa','bb','cc','dd','ee']) == True)\n",
    "assert(pass_checker2(['aa','bb','cc','dd','aa']) == False)\n",
    "assert(pass_checker2(['aa','bb','cc','dd','aaa']) == True)"
   ]
  },
  {
   "cell_type": "code",
   "execution_count": 7,
   "metadata": {},
   "outputs": [
    {
     "name": "stdout",
     "output_type": "stream",
     "text": [
      "1.77 ms ± 43.4 µs per loop (mean ± std. dev. of 7 runs, 100 loops each)\n"
     ]
    }
   ],
   "source": [
    "%%timeit\n",
    "pass_checker2(pass_generator)"
   ]
  },
  {
   "cell_type": "markdown",
   "metadata": {},
   "source": [
    "Attempt 3: Using `itertools.groupby`."
   ]
  },
  {
   "cell_type": "code",
   "execution_count": 8,
   "metadata": {},
   "outputs": [],
   "source": [
    "import itertools\n",
    "def pass_checker3(passphrase):\n",
    "    return all(map(lambda x: len(list(x[1])) == 1, itertools.groupby(sorted(passphrase))))"
   ]
  },
  {
   "cell_type": "code",
   "execution_count": 9,
   "metadata": {},
   "outputs": [],
   "source": [
    "assert(pass_checker3(['aa','bb','cc','dd','ee']) == True)\n",
    "assert(pass_checker3(['aa','bb','cc','dd','aa']) == False)\n",
    "assert(pass_checker3(['aa','bb','cc','dd','aaa']) == True)"
   ]
  },
  {
   "cell_type": "code",
   "execution_count": 10,
   "metadata": {},
   "outputs": [
    {
     "name": "stdout",
     "output_type": "stream",
     "text": [
      "26.3 ms ± 2.19 ms per loop (mean ± std. dev. of 7 runs, 10 loops each)\n"
     ]
    }
   ],
   "source": [
    "%%timeit\n",
    "pass_checker3(pass_generator)"
   ]
  },
  {
   "cell_type": "code",
   "execution_count": 11,
   "metadata": {},
   "outputs": [
    {
     "name": "stdout",
     "output_type": "stream",
     "text": [
      "14 ms ± 134 µs per loop (mean ± std. dev. of 7 runs, 100 loops each)\n"
     ]
    }
   ],
   "source": [
    "%%timeit\n",
    "sorted(pass_generator)"
   ]
  },
  {
   "cell_type": "markdown",
   "metadata": {},
   "source": [
    "Why is attempt 2 better than the 3rd? Because the 2nd attempt is more simple: doesn't need sorting and the list of passwords is only iterated once. As the Python zen says: _simple is better than complicated_. Let's try one more approach to confirm this:"
   ]
  },
  {
   "cell_type": "code",
   "execution_count": 39,
   "metadata": {},
   "outputs": [],
   "source": [
    "def pass_checker4(passphrase):\n",
    "    return len(set(passphrase)) == len(passphrase)"
   ]
  },
  {
   "cell_type": "code",
   "execution_count": 40,
   "metadata": {},
   "outputs": [],
   "source": [
    "assert(pass_checker4(['aa','bb','cc','dd','ee']) == True)\n",
    "assert(pass_checker4(['aa','bb','cc','dd','aa']) == False)\n",
    "assert(pass_checker4(['aa','bb','cc','dd','aaa']) == True)"
   ]
  },
  {
   "cell_type": "code",
   "execution_count": 43,
   "metadata": {},
   "outputs": [
    {
     "name": "stdout",
     "output_type": "stream",
     "text": [
      "409 µs ± 2.28 µs per loop (mean ± std. dev. of 7 runs, 1000 loops each)\n"
     ]
    }
   ],
   "source": [
    "%%timeit\n",
    "pass_checker4(pass_generator)"
   ]
  },
  {
   "cell_type": "markdown",
   "metadata": {},
   "source": [
    "Confirmed ;)."
   ]
  },
  {
   "cell_type": "markdown",
   "metadata": {},
   "source": [
    "### Cracking the coding interview - 1.5\n",
    "_Implement a method to perform basic string compression using the counts of repeated characters. For example, the string `aabcccccaaa` would become `a2b1c5a3`. If the \"compressed\" string would not become smaller than the original one, your method should return the original string._\n",
    "\n",
    "Attempt 1: iterating and storing the number of repeated elements in a row in a variable."
   ]
  },
  {
   "cell_type": "code",
   "execution_count": 63,
   "metadata": {},
   "outputs": [],
   "source": [
    "def compress1(uncompressed):\n",
    "    compressed, n_inarow = \"\", 0\n",
    "    for c in uncompressed:\n",
    "        if n_inarow == 0:\n",
    "            compressed += c\n",
    "            n_inarow += 1\n",
    "        elif c == compressed[-1]:\n",
    "            n_inarow += 1\n",
    "        else:\n",
    "            compressed += f\"{n_inarow}{c}\"\n",
    "            n_inarow = 1\n",
    "    compressed += str(n_inarow)\n",
    "    return compressed if len(uncompressed) > len(compressed) else uncompressed"
   ]
  },
  {
   "cell_type": "code",
   "execution_count": 65,
   "metadata": {},
   "outputs": [],
   "source": [
    "assert(compress1('aabcccccaaa') == 'a2b1c5a3')\n",
    "assert(compress1('abca') == 'abca')"
   ]
  },
  {
   "cell_type": "code",
   "execution_count": 71,
   "metadata": {},
   "outputs": [],
   "source": [
    "test_str = ('a'*10000 + 'b'*10000 + 'c'*10000)*1000"
   ]
  },
  {
   "cell_type": "code",
   "execution_count": 72,
   "metadata": {},
   "outputs": [
    {
     "name": "stdout",
     "output_type": "stream",
     "text": [
      "2.37 s ± 20.5 ms per loop (mean ± std. dev. of 7 runs, 1 loop each)\n"
     ]
    }
   ],
   "source": [
    "%%timeit\n",
    "compress1(test_str)"
   ]
  },
  {
   "cell_type": "markdown",
   "metadata": {},
   "source": [
    "Attempt 2: Using itertools' `groupby`."
   ]
  },
  {
   "cell_type": "code",
   "execution_count": 75,
   "metadata": {},
   "outputs": [],
   "source": [
    "import itertools\n",
    "def compress2(uncompressed):\n",
    "    compressed = ''.join((f\"{k}{len(list(g))}\" for k, g in itertools.groupby(uncompressed)))\n",
    "    return compressed if len(uncompressed) > len(compressed) else uncompressed"
   ]
  },
  {
   "cell_type": "code",
   "execution_count": 76,
   "metadata": {},
   "outputs": [],
   "source": [
    "assert(compress2('aabcccccaaa') == 'a2b1c5a3')\n",
    "assert(compress2('abca') == 'abca')"
   ]
  },
  {
   "cell_type": "code",
   "execution_count": 77,
   "metadata": {},
   "outputs": [
    {
     "name": "stdout",
     "output_type": "stream",
     "text": [
      "468 ms ± 6.76 ms per loop (mean ± std. dev. of 7 runs, 1 loop each)\n"
     ]
    }
   ],
   "source": [
    "%%timeit\n",
    "compress2(test_str)"
   ]
  },
  {
   "cell_type": "markdown",
   "metadata": {},
   "source": [
    "### Advent of Code 2017 - Day 1: Inverse captcha\n",
    "_You're standing in a room with \"digitization quarantine\" written in LEDs along one wall. The only door is locked, but it includes a small interface. \"Restricted Area - Strictly No Digitized Users Allowed.\"_\n",
    "\n",
    "_It goes on to explain that you may only leave by solving a captcha to prove you're not a human. Apparently, you only get one millisecond to solve the captcha: too fast for a normal human, but it feels like hours to you._\n",
    "\n",
    "_The captcha requires you to review a sequence of digits (your puzzle input) and find the sum of all digits that match the next digit in the list. The list is circular, so the digit after the last digit is the first digit in the list._\n",
    "\n",
    "_For example:_\n",
    "\n",
    "- _1122 produces a sum of 3 (1 + 2) because the first digit (1) matches the second digit and the third digit (2) matches the fourth digit._\n",
    "- _1111 produces 4 because each digit (all 1) matches the next._\n",
    "- _1234 produces 0 because no digit matches the next._\n",
    "- _91212129 produces 9 because the only digit that matches the next one is the last digit, 9._\n",
    "\n",
    "Attempt 1: Iterating through the list."
   ]
  },
  {
   "cell_type": "code",
   "execution_count": 78,
   "metadata": {},
   "outputs": [],
   "source": [
    "def captcha1(puzzle):\n",
    "    last_elem, captcha = None, 0\n",
    "    for elem in puzzle:\n",
    "        if last_elem == elem:\n",
    "            captcha += elem\n",
    "        last_elem = elem\n",
    "    if last_elem == puzzle[0]:\n",
    "        captcha += last_elem\n",
    "    return captcha"
   ]
  },
  {
   "cell_type": "code",
   "execution_count": 80,
   "metadata": {},
   "outputs": [],
   "source": [
    "assert(captcha1([1,1,2,2]) == 3)\n",
    "assert(captcha1([1,1,1,1]) == 4)\n",
    "assert(captcha1([1,2,3,4]) == 0)\n",
    "assert(captcha1([9,1,2,1,2,1,2,9]) == 9)"
   ]
  },
  {
   "cell_type": "code",
   "execution_count": 83,
   "metadata": {},
   "outputs": [],
   "source": [
    "import random\n",
    "random_captcha = random.sample(range(100000), k=100000)"
   ]
  },
  {
   "cell_type": "code",
   "execution_count": 84,
   "metadata": {},
   "outputs": [
    {
     "name": "stdout",
     "output_type": "stream",
     "text": [
      "3.48 ms ± 47.6 µs per loop (mean ± std. dev. of 7 runs, 100 loops each)\n"
     ]
    }
   ],
   "source": [
    "%%timeit\n",
    "captcha1(random_captcha)"
   ]
  },
  {
   "cell_type": "markdown",
   "metadata": {},
   "source": [
    "Attempt 2: Creating a list containing tuples of each element and the following one:"
   ]
  },
  {
   "cell_type": "code",
   "execution_count": 89,
   "metadata": {},
   "outputs": [],
   "source": [
    "import operator\n",
    "def captcha2(puzzle):\n",
    "    return sum(map(operator.itemgetter(0), filter(lambda x: x[0] == x[1], zip(puzzle, (puzzle*2)[1:len(puzzle)+1]))))"
   ]
  },
  {
   "cell_type": "code",
   "execution_count": 90,
   "metadata": {},
   "outputs": [],
   "source": [
    "assert(captcha2([1,1,2,2]) == 3)\n",
    "assert(captcha2([1,1,1,1]) == 4)\n",
    "assert(captcha2([1,2,3,4]) == 0)\n",
    "assert(captcha2([9,1,2,1,2,1,2,9]) == 9)"
   ]
  },
  {
   "cell_type": "code",
   "execution_count": 91,
   "metadata": {},
   "outputs": [
    {
     "name": "stdout",
     "output_type": "stream",
     "text": [
      "13.1 ms ± 168 µs per loop (mean ± std. dev. of 7 runs, 100 loops each)\n"
     ]
    }
   ],
   "source": [
    "%%timeit\n",
    "captcha2(random_captcha)"
   ]
  },
  {
   "cell_type": "markdown",
   "metadata": {},
   "source": [
    "Attempt 3: Using itertools' `groupby`:"
   ]
  },
  {
   "cell_type": "code",
   "execution_count": 141,
   "metadata": {},
   "outputs": [],
   "source": [
    "import itertools\n",
    "def captcha3(puzzle):\n",
    "    return sum((k*(len(list(g)) - 1) for k, g in itertools.groupby(itertools.islice(itertools.cycle(puzzle), 0, len(puzzle)+1))))"
   ]
  },
  {
   "cell_type": "code",
   "execution_count": 139,
   "metadata": {},
   "outputs": [],
   "source": [
    "assert(captcha3([1,1,2,2]) == 3)\n",
    "assert(captcha3([1,1,1,1]) == 4)\n",
    "assert(captcha3([1,2,3,4]) == 0)\n",
    "assert(captcha3([9,1,2,1,2,1,2,9]) == 9)"
   ]
  },
  {
   "cell_type": "code",
   "execution_count": 142,
   "metadata": {},
   "outputs": [
    {
     "name": "stdout",
     "output_type": "stream",
     "text": [
      "35.2 ms ± 1.03 ms per loop (mean ± std. dev. of 7 runs, 10 loops each)\n"
     ]
    }
   ],
   "source": [
    "%%timeit\n",
    "captcha3(random_captcha)"
   ]
  },
  {
   "cell_type": "markdown",
   "metadata": {},
   "source": [
    "Why is the 1st attempt the fastest? No additional data structures are created."
   ]
  },
  {
   "cell_type": "code",
   "execution_count": null,
   "metadata": {},
   "outputs": [],
   "source": []
  }
 ],
 "metadata": {
  "kernelspec": {
   "display_name": "Python 3",
   "language": "python",
   "name": "python3"
  },
  "language_info": {
   "codemirror_mode": {
    "name": "ipython",
    "version": 3
   },
   "file_extension": ".py",
   "mimetype": "text/x-python",
   "name": "python",
   "nbconvert_exporter": "python",
   "pygments_lexer": "ipython3",
   "version": "3.7.1"
  }
 },
 "nbformat": 4,
 "nbformat_minor": 2
}
