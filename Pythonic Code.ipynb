{
 "cells": [
  {
   "cell_type": "markdown",
   "metadata": {},
   "source": [
    "# Pythonic Code\n",
    "## We Code Fest 2019 - Valladolid, Spain\n",
    "Hey there! This jupyter notebook is part of a live coding talk called \"Pythonic Code\", hosted in the WeCodeFest 2019. This notebook will compare python scripts with a pythonic version of the same code. My intention is to show good practices and tricks in the Python programming language.\n",
    "\n",
    "## File management\n",
    "Files must be opened to perform any I/O operation with them. They must be closed too. It's a quite common mistake to forget about that, leaving the file descriptor unclosed. This can lead to errors when reaching the limit of open file descriptors. How does python help to prevent this situation? Using **context managers**. Let's see an example."
   ]
  },
  {
   "cell_type": "code",
   "execution_count": 1,
   "metadata": {},
   "outputs": [],
   "source": [
    "myfile = open('test.txt', 'w')\n",
    "myfile.write('test')\n",
    "myfile.close()"
   ]
  },
  {
   "cell_type": "code",
   "execution_count": 2,
   "metadata": {},
   "outputs": [],
   "source": [
    "with open('test.txt', 'w') as myfile:\n",
    "    myfile.write('test')"
   ]
  },
  {
   "cell_type": "markdown",
   "metadata": {},
   "source": [
    "## Command line arguments\n",
    "It is very common to use `sys.argv` and `getopt` to parse arguments from command line. It works but python provides an easier way to do it: the **argparse** module.\n",
    "\n",
    "In the `getopt` module documentation, the following note is present at the top of the page:\n",
    "> The `getopt` module is a parser for command line options whose API is designed to be familiar to users of the C `getopt()` function. Users who are unfamiliar with the C `getopt()` function or who would like to write less code and get better help and error messages should consider using the `argparse` module instead. "
   ]
  },
  {
   "cell_type": "code",
   "execution_count": 7,
   "metadata": {
    "scrolled": true
   },
   "outputs": [
    {
     "data": {
      "text/plain": [
       "{'n_args': 2, 'n_actions': 1, 'group': 'default', 'list': True}"
      ]
     },
     "execution_count": 7,
     "metadata": {},
     "output_type": "execute_result"
    }
   ],
   "source": [
    "import getopt\n",
    "\n",
    "argv = [\"getopt_example.py\", \"--list\", \"--group=default\"]\n",
    "\n",
    "\n",
    "def usage():\n",
    "    msg = \"\"\"\n",
    "    {0} [ -l [ -g group_id ]\n",
    "    Usage:\n",
    "    \\t-l                                    # List all groups\n",
    "    \\t-l -g group_id                        # List agents in group\n",
    "\n",
    "    Params:\n",
    "    \\t-l, --list\n",
    "    \\t-g, --group\n",
    "    \"\"\".format(basename(argv[0]))\n",
    "    print(msg)\n",
    "\n",
    "\n",
    "arguments = {'n_args': 0, 'n_actions': 0, 'group': None, 'list': False}\n",
    "try:\n",
    "    opts, args = getopt.getopt(argv[1:], \"lcafsSri:g:qdh\", [\"list\", \"group=\", \"help\"])\n",
    "    arguments['n_args'] = len(opts)\n",
    "except GetoptError as err:\n",
    "    print(str(err) + \"\\n\" + \"Try '--help' for more information.\")\n",
    "    exit(1)\n",
    "\n",
    "for o, a in opts:\n",
    "    if o in (\"-l\", \"--list\"):\n",
    "        arguments['list'] = True\n",
    "        arguments['n_actions'] += 1\n",
    "    elif o in (\"-g\", \"--group\"):\n",
    "        arguments['group'] = a\n",
    "    elif o in (\"-h\", \"--help\"):\n",
    "        usage()\n",
    "    else:\n",
    "        print(\"Invalid options.\\nTry '--help' for more information.\\n\")\n",
    "\n",
    "arguments"
   ]
  },
  {
   "cell_type": "code",
   "execution_count": 1,
   "metadata": {},
   "outputs": [
    {
     "data": {
      "text/plain": [
       "Namespace(group='default', list=True)"
      ]
     },
     "execution_count": 1,
     "metadata": {},
     "output_type": "execute_result"
    }
   ],
   "source": [
    "import argparse\n",
    "parser = argparse.ArgumentParser(description='List groups or all agents inside a group.')\n",
    "parser.add_argument('-l', '--list', help=\"List all groups\", dest='list', action='store_true')\n",
    "parser.add_argument('-g', '--group', help=\"List all agents in a group\", dest='group', type=str)\n",
    "parser.parse_args(['--list', '--group=default'])"
   ]
  },
  {
   "cell_type": "markdown",
   "metadata": {},
   "source": [
    "## Iterators\n",
    "### Lists/Dict/Set comprehesions\n",
    "We all know what a for loop is, and we have all used one at any time in our lives. Python includes that too but it also includes much other ways to iterate.\n",
    "\n",
    "The most basic one are lists comprehesions. Lists comprehesions builds a list in a single line. Let's compare creating a list using a \"traditional method\" and creating one using a list comprehesion."
   ]
  },
  {
   "cell_type": "code",
   "execution_count": 35,
   "metadata": {},
   "outputs": [
    {
     "name": "stdout",
     "output_type": "stream",
     "text": [
      "Wall time: 10.6 s\n"
     ]
    }
   ],
   "source": [
    "%%time\n",
    "my_list = []\n",
    "for i in range(10000000):\n",
    "    my_list.append(i)"
   ]
  },
  {
   "cell_type": "code",
   "execution_count": 36,
   "metadata": {},
   "outputs": [
    {
     "name": "stdout",
     "output_type": "stream",
     "text": [
      "Wall time: 1.74 s\n"
     ]
    }
   ],
   "source": [
    "%%time\n",
    "my_list = [i for i in range(10000000)]"
   ]
  },
  {
   "cell_type": "markdown",
   "metadata": {},
   "source": [
    "In addition to list comprehesions, there are set comprehesions and dict comprehesions too!"
   ]
  },
  {
   "cell_type": "code",
   "execution_count": 2,
   "metadata": {},
   "outputs": [
    {
     "name": "stdout",
     "output_type": "stream",
     "text": [
      "Wall time: 20.1 s\n"
     ]
    }
   ],
   "source": [
    "%%time\n",
    "import random\n",
    "random_items = random.sample(range(1000000000), k=10000000)"
   ]
  },
  {
   "cell_type": "code",
   "execution_count": 3,
   "metadata": {},
   "outputs": [
    {
     "name": "stdout",
     "output_type": "stream",
     "text": [
      "Wall time: 6.43 s\n"
     ]
    }
   ],
   "source": [
    "%%time\n",
    "my_dict = {}\n",
    "for i in random_items:\n",
    "    my_dict[i] = i"
   ]
  },
  {
   "cell_type": "code",
   "execution_count": 4,
   "metadata": {},
   "outputs": [
    {
     "name": "stdout",
     "output_type": "stream",
     "text": [
      "Wall time: 4.72 s\n"
     ]
    }
   ],
   "source": [
    "%%time\n",
    "my_dict = {i:i for i in random_items}"
   ]
  },
  {
   "cell_type": "code",
   "execution_count": 7,
   "metadata": {},
   "outputs": [
    {
     "name": "stdout",
     "output_type": "stream",
     "text": [
      "Wall time: 4.45 s\n"
     ]
    }
   ],
   "source": [
    "%%time\n",
    "my_set = set()\n",
    "for i in random_items:\n",
    "    my_set.add(i)"
   ]
  },
  {
   "cell_type": "code",
   "execution_count": 8,
   "metadata": {},
   "outputs": [
    {
     "name": "stdout",
     "output_type": "stream",
     "text": [
      "Wall time: 3.22 s\n"
     ]
    }
   ],
   "source": [
    "%%time\n",
    "my_set = {i for i in random_items}"
   ]
  },
  {
   "cell_type": "code",
   "execution_count": 9,
   "metadata": {},
   "outputs": [
    {
     "name": "stdout",
     "output_type": "stream",
     "text": [
      "Wall time: 2.35 s\n"
     ]
    }
   ],
   "source": [
    "%%time\n",
    "my_set = set(random_items)"
   ]
  },
  {
   "cell_type": "markdown",
   "metadata": {},
   "source": [
    "As you can see, generally using a list/set/list comprehesion is faster than building it using a traditional for loop. Why? There is a few reasons:\n",
    "* Using precompiled C code is faster than using interpreted python code\n",
    "* Calling a function bound to a local name will be faster than calling a function in a external module.\n",
    "* Avoid creating unnecessary lists in memory if your're only iterating them once: generators are faster.\n",
    "\n",
    "## Unpacking tuples\n",
    "To improve code's readability when iterating through any list/set/generator containing tuples it's possible to name each item in the tuple. For example, imagine we're iterating through a sql query in a database, each row contains the following  fields:\n",
    "* Agent name\n",
    "* Agent ID\n",
    "* Agent IP\n",
    "* Agent OS name"
   ]
  },
  {
   "cell_type": "code",
   "execution_count": 1,
   "metadata": {},
   "outputs": [
    {
     "name": "stdout",
     "output_type": "stream",
     "text": [
      "CentOS 7\n",
      "Solaris 10\n"
     ]
    }
   ],
   "source": [
    "database_rows = [('my_manager', 0, '172.10.0.34', 'Ubuntu Bionic'),\n",
    "                 ('my_1st_agent', 1, '183.24.64.1', 'CentOS 7'),\n",
    "                 ('my_2nd_agent', 2, '193.142.144.12', 'Solaris 10')]\n",
    "\n",
    "for row in database_rows:\n",
    "    if row[1] > 0:\n",
    "        print(row[3])"
   ]
  },
  {
   "cell_type": "markdown",
   "metadata": {},
   "source": [
    "It's necessary to check databases's headers to know what `row[1]` and `row[3]` stands for. That makes the code harder to read and understand. But, in Python it is possible to ***unpack*** tuples:"
   ]
  },
  {
   "cell_type": "code",
   "execution_count": 2,
   "metadata": {},
   "outputs": [
    {
     "name": "stdout",
     "output_type": "stream",
     "text": [
      "CentOS 7\n",
      "Solaris 10\n"
     ]
    }
   ],
   "source": [
    "for a_name, a_id, a_ip, a_os in database_rows:\n",
    "    if a_id > 0:\n",
    "        print(a_os)"
   ]
  },
  {
   "cell_type": "markdown",
   "metadata": {},
   "source": [
    "This code looks much better, but we're only using two columns, why store the rest in variables? Let's just _ignore_ them:"
   ]
  },
  {
   "cell_type": "code",
   "execution_count": 3,
   "metadata": {},
   "outputs": [
    {
     "name": "stdout",
     "output_type": "stream",
     "text": [
      "CentOS 7\n",
      "Solaris 10\n"
     ]
    }
   ],
   "source": [
    "for _, a_id, _, a_os in database_rows:\n",
    "    if a_id > 0:\n",
    "        print(a_os)"
   ]
  },
  {
   "cell_type": "markdown",
   "metadata": {},
   "source": [
    "## Control flow\n",
    "In python, as in many other languages, there are _control flow_ keywords such as `break` and `continue`. \n",
    "\n",
    "The `continue` statement works exactly the same as C, it can be used as _\"filtering\"_ inside a loop:"
   ]
  },
  {
   "cell_type": "code",
   "execution_count": 23,
   "metadata": {},
   "outputs": [
    {
     "name": "stdout",
     "output_type": "stream",
     "text": [
      "2 is an even number.\n",
      "3 is not an even number.\n",
      "4 is an even number.\n",
      "5 is not an even number.\n",
      "6 is an even number.\n",
      "7 is not an even number.\n",
      "8 is an even number.\n",
      "9 is not an even number.\n"
     ]
    }
   ],
   "source": [
    "for i in range(2, 10):\n",
    "    if i % 2 == 0:\n",
    "        print(f\"{i} is an even number.\")\n",
    "        continue\n",
    "    print(f\"{i} is not an even number.\")"
   ]
  },
  {
   "cell_type": "markdown",
   "metadata": {},
   "source": [
    "But personally, I prefer to use `filter` function to do it:"
   ]
  },
  {
   "cell_type": "code",
   "execution_count": 20,
   "metadata": {},
   "outputs": [
    {
     "name": "stdout",
     "output_type": "stream",
     "text": [
      "2 is an even number.\n",
      "4 is an even number.\n",
      "6 is an even number.\n",
      "8 is an even number.\n"
     ]
    }
   ],
   "source": [
    "for i in filter(lambda x: x % 2 == 0, range(2, 10)):\n",
    "    print(f\"{i} is an even number.\")"
   ]
  },
  {
   "cell_type": "markdown",
   "metadata": {},
   "source": [
    "The `break` statement is used to stop iterating. Typically, is important to know whether the iteration stopped because of a `break` statement or not. The easiest way to do it is the following:"
   ]
  },
  {
   "cell_type": "code",
   "execution_count": 30,
   "metadata": {},
   "outputs": [
    {
     "name": "stdout",
     "output_type": "stream",
     "text": [
      "2 is a prime number.\n",
      "3 is a prime number.\n",
      "4 = 2 * 2.\n",
      "5 is a prime number.\n",
      "6 = 2 * 3.\n",
      "7 is a prime number.\n",
      "8 = 2 * 4.\n",
      "9 = 3 * 3.\n"
     ]
    }
   ],
   "source": [
    "is_broken = False\n",
    "for i in range(2, 10):\n",
    "    for n in range(2, i):\n",
    "        if i % n == 0:\n",
    "            print(f\"{i} = {n} * {i // n}.\")\n",
    "            is_broken = True\n",
    "            break\n",
    "    if not is_broken:\n",
    "        print(f\"{i} is a prime number.\")\n",
    "    else:\n",
    "        is_broken = False"
   ]
  },
  {
   "cell_type": "markdown",
   "metadata": {},
   "source": [
    "But there's a more pythonic way of doing this: using an `else` statement. Yes, Python supports `else` statements in loops. The code in the `else` statement will be executed when the loop terminates through exhaustion of the list (with `for`) or when the condition becomes false (with `while`), but **not when the loop is terminated by a `break` statement**. Therefore, previous example would look like this:"
   ]
  },
  {
   "cell_type": "code",
   "execution_count": 31,
   "metadata": {},
   "outputs": [
    {
     "name": "stdout",
     "output_type": "stream",
     "text": [
      "2 is a prime number.\n",
      "3 is a prime number.\n",
      "4 = 2 * 2.\n",
      "5 is a prime number.\n",
      "6 = 2 * 3.\n",
      "7 is a prime number.\n",
      "8 = 2 * 4.\n",
      "9 = 3 * 3.\n"
     ]
    }
   ],
   "source": [
    "for i in range(2, 10):\n",
    "    for n in range(2, i):\n",
    "        if i % n == 0:\n",
    "            print(f\"{i} = {n} * {i // n}.\")\n",
    "            is_broken = True\n",
    "            break\n",
    "    else:\n",
    "        print(f\"{i} is a prime number.\")"
   ]
  },
  {
   "cell_type": "markdown",
   "metadata": {},
   "source": [
    "### Itertools module\n",
    "The `itertools` module in python includes lots of functions to work with iterables in a easy way. It's very similar to [Haskell's list API](https://hackage.haskell.org/package/base-4.12.0.0/docs/Data-List.html), which means `itertools` can be a huge help when doing functional programming in python.\n",
    "\n",
    "\n",
    "Let's see a few examples where using `itertools` can highly improve the code."
   ]
  },
  {
   "cell_type": "markdown",
   "metadata": {},
   "source": [
    "## Real world problems\n",
    "Let's do solve some real problems, starting from a basic solution to a more pythonic one.\n",
    "\n",
    "#### Advent of Code 2017 - Day 4: High-Entropy Passphrases\n",
    "\n",
    "_A new system policy has been put in place that requires all accounts to use a passphrase instead of simply a password. A passphrase consists of a series of words (lowercase letters) separated by spaces._\n",
    "\n",
    "_To ensure security, a valid passphrase must contain no duplicate words._\n",
    "\n",
    "_For example:_\n",
    "\n",
    "- _`aa bb cc dd ee` is valid._\n",
    "- _`aa bb cc dd aa` is not valid - the word aa appears more than once._\n",
    "- _`aa bb cc dd aaa` is valid - aa and aaa count as different words._\n",
    "\n",
    "_The system's full passphrase list is available as your puzzle input. How many passphrases are valid?_\n",
    "\n",
    "Attempt 1: Having an auxiliar list where all previously seen words are stored."
   ]
  },
  {
   "cell_type": "code",
   "execution_count": 35,
   "metadata": {},
   "outputs": [],
   "source": [
    "def pass_checker(passphrase):\n",
    "    already_seen_words = []\n",
    "    for word in passphrase:\n",
    "        if word in already_seen_words:\n",
    "            return False\n",
    "        already_seen_words.append(word)\n",
    "    return True"
   ]
  },
  {
   "cell_type": "code",
   "execution_count": 36,
   "metadata": {},
   "outputs": [],
   "source": [
    "assert(pass_checker(['aa','bb','cc','dd','ee']) == True)\n",
    "assert(pass_checker(['aa','bb','cc','dd','aa']) == False)\n",
    "assert(pass_checker(['aa','bb','cc','dd','aaa']) == True)"
   ]
  },
  {
   "cell_type": "code",
   "execution_count": 79,
   "metadata": {},
   "outputs": [],
   "source": [
    "import string\n",
    "import random\n",
    "pass_generator = random.sample([letter*i for letter in string.ascii_lowercase for i in range(1,500)], k=500*25)"
   ]
  },
  {
   "cell_type": "code",
   "execution_count": 80,
   "metadata": {},
   "outputs": [
    {
     "name": "stdout",
     "output_type": "stream",
     "text": [
      "808 ms ± 13.3 ms per loop (mean ± std. dev. of 7 runs, 1 loop each)\n"
     ]
    }
   ],
   "source": [
    "%%timeit\n",
    "pass_checker(pass_generator)"
   ]
  },
  {
   "cell_type": "markdown",
   "metadata": {},
   "source": [
    "Attempt 2: Using a set instead of a list"
   ]
  },
  {
   "cell_type": "code",
   "execution_count": 89,
   "metadata": {},
   "outputs": [],
   "source": [
    "def pass_checker2(passphrase):\n",
    "    already_seen_words = set()\n",
    "    for word in passphrase:\n",
    "        if word in already_seen_words:\n",
    "            return False\n",
    "        already_seen_words.add(word)\n",
    "    return True"
   ]
  },
  {
   "cell_type": "code",
   "execution_count": 90,
   "metadata": {},
   "outputs": [],
   "source": [
    "assert(pass_checker2(['aa','bb','cc','dd','ee']) == True)\n",
    "assert(pass_checker2(['aa','bb','cc','dd','aa']) == False)\n",
    "assert(pass_checker2(['aa','bb','cc','dd','aaa']) == True)"
   ]
  },
  {
   "cell_type": "code",
   "execution_count": 91,
   "metadata": {},
   "outputs": [
    {
     "name": "stdout",
     "output_type": "stream",
     "text": [
      "1.08 ms ± 2.59 µs per loop (mean ± std. dev. of 7 runs, 1000 loops each)\n"
     ]
    }
   ],
   "source": [
    "%%timeit\n",
    "pass_checker2(pass_generator)"
   ]
  },
  {
   "cell_type": "markdown",
   "metadata": {},
   "source": [
    "Attempt 3: Using `itertools.groupby`."
   ]
  },
  {
   "cell_type": "code",
   "execution_count": 92,
   "metadata": {},
   "outputs": [],
   "source": [
    "import itertools\n",
    "def pass_checker3(passphrase):\n",
    "    return all(map(lambda x: len(list(x[1])) == 1, itertools.groupby(sorted(passphrase))))"
   ]
  },
  {
   "cell_type": "code",
   "execution_count": 93,
   "metadata": {},
   "outputs": [],
   "source": [
    "assert(pass_checker3(['aa','bb','cc','dd','ee']) == True)\n",
    "assert(pass_checker3(['aa','bb','cc','dd','aa']) == False)\n",
    "assert(pass_checker3(['aa','bb','cc','dd','aaa']) == True)"
   ]
  },
  {
   "cell_type": "code",
   "execution_count": 94,
   "metadata": {},
   "outputs": [
    {
     "name": "stdout",
     "output_type": "stream",
     "text": [
      "9.54 ms ± 77.8 µs per loop (mean ± std. dev. of 7 runs, 100 loops each)\n"
     ]
    }
   ],
   "source": [
    "%%timeit\n",
    "pass_checker3(pass_generator)"
   ]
  },
  {
   "cell_type": "code",
   "execution_count": 95,
   "metadata": {},
   "outputs": [
    {
     "name": "stdout",
     "output_type": "stream",
     "text": [
      "5.36 ms ± 43.8 µs per loop (mean ± std. dev. of 7 runs, 100 loops each)\n"
     ]
    }
   ],
   "source": [
    "%%timeit\n",
    "sorted(pass_generator)"
   ]
  },
  {
   "cell_type": "markdown",
   "metadata": {},
   "source": [
    "Why is attempt 2 better than the 3rd? Because the 2nd attempt is more simple: doesn't need sorting and the list of passwords is only iterated once."
   ]
  },
  {
   "cell_type": "code",
   "execution_count": null,
   "metadata": {},
   "outputs": [],
   "source": []
  }
 ],
 "metadata": {
  "kernelspec": {
   "display_name": "Python 3",
   "language": "python",
   "name": "python3"
  },
  "language_info": {
   "codemirror_mode": {
    "name": "ipython",
    "version": 3
   },
   "file_extension": ".py",
   "mimetype": "text/x-python",
   "name": "python",
   "nbconvert_exporter": "python",
   "pygments_lexer": "ipython3",
   "version": "3.7.1"
  }
 },
 "nbformat": 4,
 "nbformat_minor": 2
}
